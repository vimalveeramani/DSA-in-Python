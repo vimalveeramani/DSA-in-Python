{
 "cells": [
  {
   "cell_type": "markdown",
   "id": "8e1a62d6",
   "metadata": {},
   "source": [
    "# Creation of stack\n"
   ]
  },
  {
   "cell_type": "code",
   "execution_count": 2,
   "id": "2470bda9",
   "metadata": {},
   "outputs": [],
   "source": [
    "def create_stack():\n",
    "    stack=[]\n",
    "    return stack"
   ]
  },
  {
   "cell_type": "markdown",
   "id": "bcf6360c",
   "metadata": {},
   "source": [
    "# Check for Emptiness\n"
   ]
  },
  {
   "cell_type": "code",
   "execution_count": 3,
   "id": "521d2fbf",
   "metadata": {},
   "outputs": [],
   "source": [
    "def check_empty(stack):\n",
    "    return len(stack)==0\n"
   ]
  },
  {
   "cell_type": "markdown",
   "id": "7d6c4a08",
   "metadata": {},
   "source": [
    "# Pushing element to the stack"
   ]
  },
  {
   "cell_type": "code",
   "execution_count": 7,
   "id": "0091cf1a",
   "metadata": {},
   "outputs": [],
   "source": [
    "def push_stack(stack,item):\n",
    "    stack.append(item)\n",
    "    return stack"
   ]
  },
  {
   "cell_type": "markdown",
   "id": "ddcf74ad",
   "metadata": {},
   "source": [
    "# Popping element from the stack"
   ]
  },
  {
   "cell_type": "code",
   "execution_count": 9,
   "id": "f2c35ca3",
   "metadata": {},
   "outputs": [],
   "source": [
    "def pop_stack(stack):\n",
    "    if (check_empty(stack)):\n",
    "        return \"stack is empty\"\n",
    "\n",
    "    return stack.pop()\n"
   ]
  },
  {
   "cell_type": "markdown",
   "id": "e9a8692d",
   "metadata": {},
   "source": [
    "# Sample Input And Output"
   ]
  },
  {
   "cell_type": "code",
   "execution_count": 10,
   "id": "5403868c",
   "metadata": {},
   "outputs": [
    {
     "name": "stdout",
     "output_type": "stream",
     "text": [
      "popped item: 4\n",
      "stack after popping an element: ['1', '2', '3']\n"
     ]
    }
   ],
   "source": [
    "stack = create_stack()\n",
    "push_stack(stack, str(1))\n",
    "push_stack(stack, str(2))\n",
    "push_stack(stack, str(3))\n",
    "push_stack(stack, str(4))\n",
    "print(\"popped item: \" + pop_stack(stack))\n",
    "print(\"stack after popping an element: \" + str(stack))"
   ]
  },
  {
   "cell_type": "markdown",
   "id": "f082af5e",
   "metadata": {},
   "source": [
    "# Complexity\n",
    "Stack Time Complexity\n",
    "For the array-based implementation of a stack, the push and pop operations take constant time, i.e. O(1).\n",
    "\n"
   ]
  },
  {
   "cell_type": "code",
   "execution_count": null,
   "id": "889a6cf9",
   "metadata": {},
   "outputs": [],
   "source": []
  }
 ],
 "metadata": {
  "kernelspec": {
   "display_name": "Python 3 (ipykernel)",
   "language": "python",
   "name": "python3"
  },
  "language_info": {
   "codemirror_mode": {
    "name": "ipython",
    "version": 3
   },
   "file_extension": ".py",
   "mimetype": "text/x-python",
   "name": "python",
   "nbconvert_exporter": "python",
   "pygments_lexer": "ipython3",
   "version": "3.11.3"
  }
 },
 "nbformat": 4,
 "nbformat_minor": 5
}
